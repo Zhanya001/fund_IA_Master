{
 "cells": [
  {
   "cell_type": "markdown",
   "metadata": {},
   "source": [
    "# Problema IV: Búsqueda de Información \n",
    "## ¿En qué consiste la metodología de Naive Bayes?\n",
    "\n",
    "R: Naive Bayes es una metodología de clasificación basada en el teorema de Bayes, que establece una relación entre la probabilidad de un evento y las evidencias asociadas a este. La característica distintiva de este enfoque es su suposición de independencia condicional entre las características del conjunto de datos, lo que simplifica enormemente los cálculos. Esto significa que, dado un resultado, las características se consideran independientes entre sí, lo que permite calcular la probabilidad de pertenencia a una clase sin la necesidad de considerar la relación entre características.\n",
    "\n",
    "El proceso de clasificación en Naive Bayes implica calcular la probabilidad de cada clase dada un conjunto de características utilizando la fórmula de Bayes. Para cada clase, se multiplican las probabilidades previas de la clase y las probabilidades de las características dadas esa clase. Posteriormente, el algoritmo asigna la clase con la probabilidad más alta al nuevo ejemplo.\n",
    "\n",
    "Naive Bayes se aplica comúnmente en tareas como el filtrado de spam, la clasificación de textos y el análisis de sentimientos. Existen varias variantes del algoritmo, incluyendo Gaussian Naive Bayes, que se utiliza para características continuas, y Multinomial Naive Bayes, que es adecuado para datos discretos, como el conteo de palabras en documentos.\n",
    "\n",
    "Aunque Naive Bayes es poderoso y eficiente, su principal limitación radica en la suposición de independencia, que puede no cumplirse en todos los casos. Sin embargo, a pesar de esta limitación, el método ha demostrado ser efectivo en muchas aplicaciones prácticas, ofreciendo un balance entre simplicidad y rendimiento en términos de velocidad de procesamiento y precisión en las predicciones.\n",
    "\n",
    "-----------------------\n",
    "Más detalles\n",
    "↓ ↓ ↓ ↓"
   ]
  },
  {
   "cell_type": "markdown",
   "metadata": {},
   "source": [
    "# Metodología de Naive Bayes\n",
    "\n",
    "## Introducción\n",
    "\n",
    "**Naive Bayes** es un conjunto de algoritmos de clasificación basados en el teorema de Bayes, que asume la independencia entre las características (o variables) del conjunto de datos. Esta metodología es especialmente popular para tareas de clasificación de texto, como el filtrado de spam, la clasificación de documentos y el análisis de sentimientos, debido a su simplicidad, eficacia y capacidad para manejar grandes volúmenes de datos."
   ]
  },
  {
   "cell_type": "markdown",
   "metadata": {},
   "source": [
    "## Teorema de Bayes\n",
    "\n",
    "El teorema de Bayes establece que:\n",
    "\n",
    "\\[ \n",
    "P(A|B) = \\frac{P(B|A) \\cdot P(A)}{P(B)} \n",
    "\\]\n",
    "\n",
    "Donde:\n",
    "- \\( P(A|B) \\): Probabilidad de que ocurra el evento \\( A \\) dado que \\( B \\) ha ocurrido (probabilidad posterior).\n",
    "- \\( P(B|A) \\): Probabilidad de que ocurra el evento \\( B \\) dado que \\( A \\) ha ocurrido (verosimilitud).\n",
    "- \\( P(A) \\): Probabilidad de que ocurra el evento \\( A \\) (probabilidad previa).\n",
    "- \\( P(B) \\): Probabilidad de que ocurra el evento \\( B \\) (normalización)."
   ]
  },
  {
   "cell_type": "markdown",
   "metadata": {},
   "source": [
    "## Clasificación con Naive Bayes\n",
    "\n",
    "### Suposición de Independencia\n",
    "\n",
    "La premisa fundamental detrás de Naive Bayes es que, dado un resultado (clase), las características son independientes entre sí. Esta suposición simplifica enormemente los cálculos necesarios para la clasificación.\n",
    "\n",
    "### Cálculo de Probabilidades\n",
    "\n",
    "Para clasificar un nuevo ejemplo, Naive Bayes calcula la probabilidad de que el ejemplo pertenezca a cada clase usando la fórmula del teorema de Bayes. Para un conjunto de características \\( X = (X_1, X_2, \\ldots, X_n) \\) y una clase \\( C \\):\n",
    "\n",
    "\\[\n",
    "P(C|X) = \\frac{P(X|C) \\cdot P(C)}{P(X)} = \\frac{P(C) \\cdot P(X_1|C) \\cdot P(X_2|C) \\cdots P(X_n|C)}{P(X)}\n",
    "\\]\n",
    "\n",
    "Dado que \\( P(X) \\) es constante para todas las clases, podemos ignorarlo durante la clasificación y simplemente calcular:\n",
    "\n",
    "\\[\n",
    "P(C|X) \\propto P(C) \\cdot P(X_1|C) \\cdots P(X_n|C)\n",
    "\\]"
   ]
  },
  {
   "cell_type": "markdown",
   "metadata": {},
   "source": [
    "## Ejemplo Práctico\n",
    "\n",
    "Supongamos que estamos clasificando correos electrónicos como **spam** o **no spam** basándonos en palabras clave. Consideremos un conjunto de datos de entrenamiento:\n",
    "\n",
    "| Email  | Spam | Palabras Clave         |\n",
    "|--------|------|------------------------|\n",
    "| Email 1| Sí   | \"oferta\", \"ganar\"      |\n",
    "| Email 2| Sí   | \"gratis\", \"ahora\"      |\n",
    "| Email 3| No   | \"reunión\", \"proyecto\"  |\n",
    "| Email 4| No   | \"importante\", \"actualización\" |\n",
    "\n",
    "### Paso 1: Calcular Probabilidades Previas\n",
    "\n",
    "Primero, calculamos las probabilidades previas de cada clase:\n",
    "\n",
    "- Total de correos: 4\n",
    "- \\( P(Spam) = \\frac{2}{4} = 0.5 \\)\n",
    "- \\( P(No\\ Spam) = \\frac{2}{4} = 0.5 \\)\n",
    "\n",
    "### Paso 2: Calcular Probabilidades de Características\n",
    "\n",
    "A continuación, calculamos la probabilidad de cada palabra dada cada clase:\n",
    "\n",
    "- Para Spam:\n",
    "  - \\( P(\"oferta\"|Spam) = \\frac{1}{2} \\)\n",
    "  - \\( P(\"ganar\"|Spam) = \\frac{1}{2} \\)\n",
    "  - \\( P(\"gratis\"|Spam) = \\frac{1}{2} \\)\n",
    "  - \\( P(\"ahora\"|Spam) = \\frac{1}{2} \\)\n",
    "\n",
    "- Para No Spam:\n",
    "  - \\( P(\"reunión\"|No\\ Spam) = \\frac{1}{2} \\)\n",
    "  - \\( P(\"proyecto\"|No\\ Spam) = \\frac{1}{2} \\)\n",
    "  - \\( P(\"importante\"|No\\ Spam) = \\frac{1}{2} \\)\n",
    "  - \\( P(\"actualización\"|No\\ Spam) = \\frac{1}{2} \\)"
   ]
  },
  {
   "cell_type": "markdown",
   "metadata": {},
   "source": [
    "### Paso 3: Clasificación de un Nuevo Ejemplo\n",
    "\n",
    "Supongamos que recibimos un nuevo correo electrónico que contiene las palabras \"oferta\" y \"reunión\". Queremos clasificarlo como spam o no spam.\n",
    "\n",
    "1. **Probabilidad de Spam**:\n",
    "   \\[\n",
    "   P(Spam|\"oferta\", \"reunión\") = P(Spam) \\cdot P(\"oferta\"|Spam) \\cdot P(\"reunión\"|Spam)\n",
    "   \\]\n",
    "   \\[\n",
    "   = 0.5 \\cdot 1 \\cdot 0 = 0\n",
    "   \\]\n",
    "\n",
    "2. **Probabilidad de No Spam**:\n",
    "   \\[\n",
    "   P(No\\ Spam|\"oferta\", \"reunión\") = P(No\\ Spam) \\cdot P(\"oferta\"|No\\ Spam) \\cdot P(\"reunión\"|No\\ Spam)\n",
    "   \\]\n",
    "   \\[\n",
    "   = 0.5 \\cdot 0 \\cdot 0.5 = 0\n",
    "   \\]\n",
    "\n",
    "Dado que ambos resultados son 0, este es un caso donde el modelo no puede hacer una clasificación debido a que ninguna de las palabras está presente en la clase correspondiente. Este problema puede ser mitigado usando técnicas como el **smoothing** de Laplace.\n"
   ]
  },
  {
   "cell_type": "markdown",
   "metadata": {},
   "source": [
    "## Tipos de Naive Bayes\n",
    "\n",
    "Existen varias variantes de Naive Bayes, que se adaptan a diferentes tipos de datos:\n",
    "\n",
    "- **Gaussian Naive Bayes**: Se utiliza cuando las características son continuas y se asume que se distribuyen de manera gaussiana.\n",
    "- **Multinomial Naive Bayes**: Se aplica en problemas de clasificación de texto, donde las características son el conteo de palabras o frecuencias.\n",
    "- **Bernoulli Naive Bayes**: Es útil para datos binarios, donde las características indican la presencia o ausencia de una propiedad."
   ]
  },
  {
   "cell_type": "markdown",
   "metadata": {},
   "source": [
    "## Ventajas y Desventajas\n",
    "\n",
    "### Ventajas\n",
    "\n",
    "- **Simplicidad**: Fácil de implementar y entender.\n",
    "- **Eficiencia**: Rápido en términos de entrenamiento y predicción, especialmente con grandes conjuntos de datos.\n",
    "- **Requiere poco entrenamiento**: Funciona bien incluso con menos datos.\n",
    "\n",
    "### Desventajas\n",
    "\n",
    "- **Suposición de independencia**: La suposición de que todas las características son independientes puede no ser realista en muchos casos.\n",
    "- **Problemas con características correlacionadas**: Puede tener un rendimiento deficiente si las características están altamente correlacionadas."
   ]
  },
  {
   "cell_type": "markdown",
   "metadata": {},
   "source": [
    "## Conclusión\n",
    "\n",
    "Naive Bayes es un método de clasificación robusto y eficiente que, a pesar de sus supuestos simplificadores, ha demostrado ser eficaz en muchas aplicaciones prácticas. Su facilidad de uso y velocidad lo convierten en una opción popular para problemas de clasificación, especialmente en el ámbito del procesamiento del lenguaje natural."
   ]
  }
 ],
 "metadata": {
  "language_info": {
   "name": "python"
  }
 },
 "nbformat": 4,
 "nbformat_minor": 2
}
