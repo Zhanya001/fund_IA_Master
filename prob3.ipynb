{
 "cells": [
  {
   "cell_type": "code",
   "execution_count": 1,
   "metadata": {},
   "outputs": [],
   "source": [
    "# Importar las bibliotecas necesarias y configurar estilo de gráficos\n",
    "import numpy as np\n",
    "import matplotlib.pyplot as plt\n",
    "from scipy.cluster.hierarchy import linkage, dendrogram, fcluster\n",
    "\n",
    "# Configurar fondo rosado y estilo de las gráficas\n",
    "plt.rcParams['axes.facecolor'] = '#FFB6C1'  # Fondo rosado\n",
    "plt.rcParams['axes.edgecolor'] = 'gray'\n",
    "plt.rcParams['grid.color'] = 'white'\n",
    "plt.rcParams['grid.linestyle'] = '--'\n",
    "plt.rcParams['font.size'] = 12\n",
    "plt.rcParams['axes.titleweight'] = 'bold'"
   ]
  },
  {
   "cell_type": "code",
   "execution_count": 2,
   "metadata": {},
   "outputs": [
    {
     "name": "stdout",
     "output_type": "stream",
     "text": [
      "Matriz de distancias:\n",
      " [ 1.5   2.5   3.   10.    2.25  6.    4.    8.    7.5   3.62]\n"
     ]
    }
   ],
   "source": [
    "# Definir la matriz de distancias y los nombres de los patrones\n",
    "\n",
    "# La matriz de distancias proporcionada es simétrica, así que solo necesitamos la mitad inferior sin la diagonal.\n",
    "# La estructura que usaremos será una lista unidimensional compatible con el método 'linkage'.\n",
    "distancias = np.array([1.5, 2.5, 3, 10, 2.25, 6, 4, 8, 7.5, 3.62])\n",
    "\n",
    "# Los nombres de los patrones, representados como etiquetas para el dendograma\n",
    "patrones = ['A', 'B', 'C', 'D', 'E']\n",
    "\n",
    "# Mostrar la matriz de distancias para asegurarnos de que se ha definido correctamente\n",
    "print(\"Matriz de distancias:\\n\", distancias)\n"
   ]
  },
  {
   "cell_type": "code",
   "execution_count": 3,
   "metadata": {},
   "outputs": [
    {
     "name": "stdout",
     "output_type": "stream",
     "text": [
      "Clustering Jerárquico (Enlace Simple):\n",
      " [[0.   1.   1.5  2.  ]\n",
      " [2.   5.   2.25 3.  ]\n",
      " [3.   6.   3.   4.  ]\n",
      " [4.   7.   3.62 5.  ]]\n"
     ]
    }
   ],
   "source": [
    "# Aplicar el clustering jerárquico con el método de enlace simple\n",
    "\n",
    "# Aplicar el método de 'single linkage' (enlace simple) para el clustering\n",
    "enlace_simple = linkage(distancias, method='single')\n",
    "\n",
    "# Mostrar el resultado del clustering jerárquico\n",
    "print(\"Clustering Jerárquico (Enlace Simple):\\n\", enlace_simple)\n",
    "\n",
    "# Cada fila del resultado 'enlace_simple' indica qué dos grupos se han unido y la distancia a la que ocurrió.\n",
    "# La estructura es: [cluster1, cluster2, distancia, número de elementos en el cluster resultante]\n"
   ]
  },
  {
   "cell_type": "code",
   "execution_count": 7,
   "metadata": {},
   "outputs": [
    {
     "ename": "SyntaxError",
     "evalue": "invalid syntax (668676527.py, line 25)",
     "output_type": "error",
     "traceback": [
      "\u001b[1;36m  Cell \u001b[1;32mIn[7], line 25\u001b[1;36m\u001b[0m\n\u001b[1;33m    Graficar el dendograma y explicar cómo interpretarlo\u001b[0m\n\u001b[1;37m             ^\u001b[0m\n\u001b[1;31mSyntaxError\u001b[0m\u001b[1;31m:\u001b[0m invalid syntax\n"
     ]
    }
   ],
   "source": [
    "# Graficar el dendograma y explicar cómo interpretarlo\n",
    "\n",
    "plt.figure(figsize=(10, 6))  # Ajustar el tamaño del gráfico\n",
    "\n",
    "# Graficar el dendograma con enlace simple\n",
    "dendrogram(\n",
    "    enlace_simple,  # Datos del clustering\n",
    "    labels=patrones,  # Etiquetas de los patrones\n",
    "    leaf_rotation=90,  # Rotación de las etiquetas\n",
    "    leaf_font_size=12,  # Tamaño de las etiquetas\n",
    "    color_threshold=3.5  # Umbral de color en 3.5 para distinguir los clusters\n",
    ")\n",
    "\n",
    "# Personalización del gráfico\n",
    "plt.title('Dendograma - Clustering Jerárquico (Enlace Simple)', fontsize=14, fontweight='bold')\n",
    "plt.xlabel('Patrones', fontsize=12)\n",
    "plt.ylabel('Distancia', fontsize=12)\n",
    "plt.axhline(y=3.5, color='gray', linestyle='--', label='Umbral de corte (3.5)')  # Línea horizontal para el umbral\n",
    "plt.legend()\n",
    "plt.grid(True, linestyle='--', linewidth=0.5)\n",
    "\n",
    "# Mostrar el dendograma\n",
    "plt.tight_layout()  # Ajustar el diseño para evitar solapamientos\n",
    "plt.show()\n"
   ]
  },
  {
   "cell_type": "code",
   "execution_count": 6,
   "metadata": {},
   "outputs": [
    {
     "name": "stdout",
     "output_type": "stream",
     "text": [
      "\n",
      "Resumen de Agrupaciones (Umbral de distancia = 3.5):\n",
      "Patrón A está en el cluster 1\n",
      "Patrón B está en el cluster 1\n",
      "Patrón C está en el cluster 1\n",
      "Patrón D está en el cluster 1\n",
      "Patrón E está en el cluster 2\n",
      "\n",
      "Grupos resultantes:\n",
      "Grupo 1: A, B, C, D\n",
      "Grupo 2: E\n"
     ]
    }
   ],
   "source": [
    "# Mostrar agrupaciones de patrones con un umbral de distancia\n",
    "\n",
    "# Elegir un umbral de distancia para definir los clusters\n",
    "umbral_distancia = 3.5  # Puedes ajustar este valor según lo que quieras analizar\n",
    "\n",
    "# Generar los clusters usando el umbral de distancia\n",
    "clusters = fcluster(enlace_simple, t=umbral_distancia, criterion='distance')\n",
    "\n",
    "# Mostrar las agrupaciones finales de manera más clara\n",
    "print(f\"\\nResumen de Agrupaciones (Umbral de distancia = {umbral_distancia}):\")\n",
    "agrupaciones = {}\n",
    "for i, cluster in enumerate(clusters):\n",
    "    print(f\"Patrón {patrones[i]} está en el cluster {cluster}\")\n",
    "    if cluster not in agrupaciones:\n",
    "        agrupaciones[cluster] = []\n",
    "    agrupaciones[cluster].append(patrones[i])\n",
    "\n",
    "# Mostrar los grupos resultantes de manera resumida\n",
    "print(\"\\nGrupos resultantes:\")\n",
    "for grupo, patrones_grupo in agrupaciones.items():\n",
    "    print(f\"Grupo {grupo}: {', '.join(patrones_grupo)}\")\n"
   ]
  }
 ],
 "metadata": {
  "kernelspec": {
   "display_name": "venv",
   "language": "python",
   "name": "python3"
  },
  "language_info": {
   "codemirror_mode": {
    "name": "ipython",
    "version": 3
   },
   "file_extension": ".py",
   "mimetype": "text/x-python",
   "name": "python",
   "nbconvert_exporter": "python",
   "pygments_lexer": "ipython3",
   "version": "3.12.5"
  }
 },
 "nbformat": 4,
 "nbformat_minor": 2
}
